{
 "cells": [
  {
   "cell_type": "code",
   "execution_count": null,
   "metadata": {},
   "outputs": [],
   "source": [
    "\"\"\"Strain estimation from Zach's electrostatic adheasion data\"\"\"\n",
    "import pandas as pd\n",
    "import matplotlib.pyplot as plt\n",
    "\n",
    "data = pd.read_csv('Data/Tensile Data/PVC Gel Material Parameters.csv')\n",
    "\n",
    "# Zachs data was recorded at 1500V/mm E field with stress in mN/cm^2.\n",
    "maxElectrostaticStress = [2000, 1750, 1250, 1500]\n",
    "\n",
    "# convert from mN/cm^2. 1 mN/cm^2 = 10 pascals\n",
    "maxElectrostaticStress = [i*10 for i in maxElectrostaticStress]\n",
    "strain = []\n",
    "\n",
    "# estimate the strain from the elastic modulus and max electrostatic stress\n",
    "for i in range(0, len(maxElectrostaticStress)):\n",
    "    strain.append(maxElectrostaticStress[i]/data[\"Elastic Modulus (Pa)\"][i])\n",
    "\n",
    "name = ['P2', 'P4', 'P6', 'P8']\n",
    "for i in range(0, len(maxElectrostaticStress)):\n",
    "    plt.scatter(strain[i], maxElectrostaticStress[i], label = f'{name[i]}')\n",
    "\n",
    "plt.xlabel('Strain')\n",
    "plt.ylabel('Adheasion Stress (Pa)')\n",
    "plt.title('Maximum Strain in a Linear Actuator')\n",
    "plt.legend()\n",
    "plt.show()\n",
    "\n",
    "# Zach's data looks at round cut PVC gels where the electrode takes up all the \n",
    "# area of the gel. in the EPIC, the electrode compresses the fluid towards the \n",
    "# center, where there's significantly more gel material. this means for the \n",
    "# given force, the pressure is significantly lowered as there is more area to \n",
    "# consider. this relationship is the absolulte maximum potential "
   ]
  }
 ],
 "metadata": {
  "kernelspec": {
   "display_name": ".venv",
   "language": "python",
   "name": "python3"
  },
  "language_info": {
   "codemirror_mode": {
    "name": "ipython",
    "version": 3
   },
   "file_extension": ".py",
   "mimetype": "text/x-python",
   "name": "python",
   "nbconvert_exporter": "python",
   "pygments_lexer": "ipython3",
   "version": "3.12.10"
  }
 },
 "nbformat": 4,
 "nbformat_minor": 2
}
