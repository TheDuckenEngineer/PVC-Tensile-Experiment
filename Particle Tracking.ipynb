{
 "cells": [
  {
   "cell_type": "code",
   "execution_count": null,
   "metadata": {},
   "outputs": [],
   "source": [
    "\"\"\"Test if marker recognization is sufficient\"\"\"\n",
    "from pvc_tensile_experiment.Functions import *\n",
    "\n",
    "# variable inputs\n",
    "folderName = 'Data/Image Data/PVC P8 Test_0'\n",
    "\n",
    "# set pixel area limits for the search region and the\n",
    "# the lower color bound\n",
    "searchRegion = [60, 4500]\n",
    "lowerColorLims = [80, 150, 130] # min [80, 80, 100], max [80, 150, 125]\n",
    "\n",
    "# define the opening kernel and use\n",
    "kernelSize = 3\n",
    "useKernel = False\n",
    "\n",
    "# check the particle areas are increasing and verify if there are abnormal changes to position\n",
    "MaskCheck(folderName, searchRegion, lowerColorLims, useKernel, kernelSize)\n"
   ]
  },
  {
   "cell_type": "code",
   "execution_count": null,
   "metadata": {},
   "outputs": [],
   "source": [
    "\"\"\"Run the particle tracking, compute strain, and couple stress and strain\"\"\"\n",
    "from pvc_tensile_experiment.Functions import *\n",
    "\n",
    "# find the tracked particles\n",
    "tracked = ParticleIdentify(folderName, searchRegion, lowerColorLims, useKernel, kernelSize)\n",
    "\n",
    "# process the data and compile, getting strain and stress calculations \n",
    "# axDist, axStrain, transDist, transStrain, stress  = StrainFunction(folderName, tracked)\n"
   ]
  }
 ],
 "metadata": {
  "kernelspec": {
   "display_name": ".venv",
   "language": "python",
   "name": "python3"
  },
  "language_info": {
   "codemirror_mode": {
    "name": "ipython",
    "version": 3
   },
   "file_extension": ".py",
   "mimetype": "text/x-python",
   "name": "python",
   "nbconvert_exporter": "python",
   "pygments_lexer": "ipython3",
   "version": "3.12.10"
  }
 },
 "nbformat": 4,
 "nbformat_minor": 2
}
